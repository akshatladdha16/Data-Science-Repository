{
 "cells": [
  {
   "cell_type": "markdown",
   "id": "690d748e",
   "metadata": {},
   "source": [
    "# Numpy Complete tutorial \n",
    "Numpy is a general-purpose array-processing package used to do scientific computiong in python faster to handle data and takes less space than traditional practices"
   ]
  },
  {
   "cell_type": "code",
   "execution_count": 2,
   "id": "dd0826a3",
   "metadata": {},
   "outputs": [],
   "source": [
    "import numpy as np"
   ]
  },
  {
   "cell_type": "code",
   "execution_count": 3,
   "id": "0ed2810d",
   "metadata": {},
   "outputs": [],
   "source": [
    "myarr=np.array([3,6,7,2782664,9],np.int8)\n",
    "# general array making"
   ]
  },
  {
   "cell_type": "code",
   "execution_count": 4,
   "id": "79f3281e",
   "metadata": {},
   "outputs": [
    {
     "data": {
      "text/plain": [
       "array([  3,   6,   7, -56,   9], dtype=int8)"
      ]
     },
     "execution_count": 4,
     "metadata": {},
     "output_type": "execute_result"
    }
   ],
   "source": [
    "myarr \n",
    "# so here we will get int8 number instead of 4th element of myarr as we declared size allowed for number as np.int8 \n",
    "# so to solve this either don't write int8 or something\n",
    "# writing int8 or something is useful when we have to put condition on input numbers"
   ]
  },
  {
   "cell_type": "code",
   "execution_count": 5,
   "id": "6b1b9e45",
   "metadata": {},
   "outputs": [
    {
     "ename": "IndexError",
     "evalue": "too many indices for array: array is 1-dimensional, but 2 were indexed",
     "output_type": "error",
     "traceback": [
      "\u001b[1;31m---------------------------------------------------------------------------\u001b[0m",
      "\u001b[1;31mIndexError\u001b[0m                                Traceback (most recent call last)",
      "\u001b[1;32m<ipython-input-5-2b77887bb446>\u001b[0m in \u001b[0;36m<module>\u001b[1;34m\u001b[0m\n\u001b[1;32m----> 1\u001b[1;33m \u001b[0mmyarr\u001b[0m\u001b[1;33m[\u001b[0m\u001b[1;36m0\u001b[0m\u001b[1;33m,\u001b[0m\u001b[1;36m1\u001b[0m\u001b[1;33m]\u001b[0m\u001b[1;33m\u001b[0m\u001b[1;33m\u001b[0m\u001b[0m\n\u001b[0m\u001b[0;32m      2\u001b[0m \u001b[1;31m# error coz we don';t have anything on 0,1\u001b[0m\u001b[1;33m\u001b[0m\u001b[1;33m\u001b[0m\u001b[1;33m\u001b[0m\u001b[0m\n",
      "\u001b[1;31mIndexError\u001b[0m: too many indices for array: array is 1-dimensional, but 2 were indexed"
     ]
    }
   ],
   "source": [
    "myarr[0,1]\n",
    "# error coz we don't have anything on 0,1"
   ]
  },
  {
   "cell_type": "code",
   "execution_count": 7,
   "id": "12bb3154",
   "metadata": {},
   "outputs": [
    {
     "data": {
      "text/plain": [
       "(5,)"
      ]
     },
     "execution_count": 7,
     "metadata": {},
     "output_type": "execute_result"
    }
   ],
   "source": [
    "myarr.shape"
   ]
  },
  {
   "cell_type": "code",
   "execution_count": 8,
   "id": "eb697b1a",
   "metadata": {},
   "outputs": [
    {
     "data": {
      "text/plain": [
       "dtype('int8')"
      ]
     },
     "execution_count": 8,
     "metadata": {},
     "output_type": "execute_result"
    }
   ],
   "source": [
    "myarr.dtype\n",
    "# gives u what data type we are using right now"
   ]
  },
  {
   "cell_type": "code",
   "execution_count": 9,
   "id": "e67bbf0e",
   "metadata": {},
   "outputs": [],
   "source": [
    "a=np.array([[1,2,3,4,5],[1,2,3,4,5],[3,5,6,7,3]])"
   ]
  },
  {
   "cell_type": "code",
   "execution_count": 12,
   "id": "69c69d96",
   "metadata": {},
   "outputs": [
    {
     "data": {
      "text/plain": [
       "(3, 5)"
      ]
     },
     "execution_count": 12,
     "metadata": {},
     "output_type": "execute_result"
    }
   ],
   "source": [
    "a.shape"
   ]
  },
  {
   "cell_type": "code",
   "execution_count": 13,
   "id": "7c8b2622",
   "metadata": {},
   "outputs": [
    {
     "data": {
      "text/plain": [
       "array([[0.40014937, 0.11561223, 0.54914274, 0.82447505, 0.82627596],\n",
       "       [0.84017766, 0.6827774 , 0.28423871, 0.3305819 , 0.99694864],\n",
       "       [0.14158828, 0.90040823, 0.90423889, 0.33573328, 0.15404378]])"
      ]
     },
     "execution_count": 13,
     "metadata": {},
     "output_type": "execute_result"
    }
   ],
   "source": [
    "newarr=np.random.rand(3,5)\n",
    "newarr\n",
    "# syntax to create array of random numbers"
   ]
  },
  {
   "cell_type": "code",
   "execution_count": 14,
   "id": "62991b9e",
   "metadata": {},
   "outputs": [
    {
     "data": {
      "text/plain": [
       "dtype('int32')"
      ]
     },
     "execution_count": 14,
     "metadata": {},
     "output_type": "execute_result"
    }
   ],
   "source": [
    "# Array creation : 1: Conversions from other python structures\n",
    "listarr=np.array([[1,2,3],[4,5,6],[0,3,1]])\n",
    "listarr.dtype"
   ]
  },
  {
   "cell_type": "code",
   "execution_count": 15,
   "id": "262acc10",
   "metadata": {},
   "outputs": [
    {
     "data": {
      "text/plain": [
       "(3, 3)"
      ]
     },
     "execution_count": 15,
     "metadata": {},
     "output_type": "execute_result"
    }
   ],
   "source": [
    "listarr.shape"
   ]
  },
  {
   "cell_type": "code",
   "execution_count": 16,
   "id": "cab4c9ad",
   "metadata": {},
   "outputs": [
    {
     "data": {
      "text/plain": [
       "9"
      ]
     },
     "execution_count": 16,
     "metadata": {},
     "output_type": "execute_result"
    }
   ],
   "source": [
    "listarr.size"
   ]
  },
  {
   "cell_type": "code",
   "execution_count": null,
   "id": "498f1534",
   "metadata": {},
   "outputs": [],
   "source": [
    "# Method2 of making arrays: \n",
    "zeroes=np.zeros((2,5))\n",
    "zeroes"
   ]
  },
  {
   "cell_type": "code",
   "execution_count": 17,
   "id": "f33d7db3",
   "metadata": {},
   "outputs": [
    {
     "data": {
      "text/plain": [
       "array([ 0,  1,  2,  3,  4,  5,  6,  7,  8,  9, 10, 11, 12, 13, 14])"
      ]
     },
     "execution_count": 17,
     "metadata": {},
     "output_type": "execute_result"
    }
   ],
   "source": [
    "arange=np.arange(15)\n",
    "arange\n",
    "# NumPy arange () is one of the array creation routines based on numerical ranges"
   ]
  },
  {
   "cell_type": "code",
   "execution_count": 18,
   "id": "2f618a2c",
   "metadata": {},
   "outputs": [],
   "source": [
    "# if we want any array equally distributed in any number of frequency we use linspace\n",
    "# equally linearly spaced integers\n",
    "lspace=np.linspace(1,12,5)"
   ]
  },
  {
   "cell_type": "code",
   "execution_count": 19,
   "id": "3b27c8ad",
   "metadata": {},
   "outputs": [
    {
     "data": {
      "text/plain": [
       "array([ 1.  ,  3.75,  6.5 ,  9.25, 12.  ])"
      ]
     },
     "execution_count": 19,
     "metadata": {},
     "output_type": "execute_result"
    }
   ],
   "source": [
    "lspace"
   ]
  },
  {
   "cell_type": "code",
   "execution_count": 20,
   "id": "de44186b",
   "metadata": {},
   "outputs": [
    {
     "data": {
      "text/plain": [
       "array([[6.23042070e-307, 1.86918699e-306, 1.69121096e-306,\n",
       "        1.69120145e-306, 4.45064003e-308, 4.45059334e-308],\n",
       "       [8.90097448e-307, 7.56587584e-307, 1.37961302e-306,\n",
       "        1.05699242e-307, 8.01097889e-307, 1.78020169e-306],\n",
       "       [7.56601165e-307, 1.02359984e-306, 1.33510679e-306,\n",
       "        2.22522597e-306, 1.33511018e-306, 6.23057689e-307],\n",
       "       [8.45597329e-307, 8.45559303e-307, 8.06613040e-308,\n",
       "        6.89810244e-307, 1.22387550e-307, 2.22522596e-306]])"
      ]
     },
     "execution_count": 20,
     "metadata": {},
     "output_type": "execute_result"
    }
   ],
   "source": [
    "# Empty : here we can make empty array of any size and it will put random numbers in it\n",
    "# use is that if we already made an array and if we want to update that we can use this array using np.empty_like\n",
    "emp =np.empty((4,6))\n",
    "emp"
   ]
  },
  {
   "cell_type": "code",
   "execution_count": 21,
   "id": "499e2f5b",
   "metadata": {},
   "outputs": [
    {
     "data": {
      "text/plain": [
       "array([ 1.  ,  3.75,  6.5 ,  9.25, 12.  ])"
      ]
     },
     "execution_count": 21,
     "metadata": {},
     "output_type": "execute_result"
    }
   ],
   "source": [
    "emp_like=np.empty_like(lspace)\n",
    "emp_like\n",
    "# in this way we have updated empty array for any future work"
   ]
  },
  {
   "cell_type": "code",
   "execution_count": 22,
   "id": "72a6ded2",
   "metadata": {},
   "outputs": [
    {
     "data": {
      "text/plain": [
       "array([[1., 0., 0., ..., 0., 0., 0.],\n",
       "       [0., 1., 0., ..., 0., 0., 0.],\n",
       "       [0., 0., 1., ..., 0., 0., 0.],\n",
       "       ...,\n",
       "       [0., 0., 0., ..., 1., 0., 0.],\n",
       "       [0., 0., 0., ..., 0., 1., 0.],\n",
       "       [0., 0., 0., ..., 0., 0., 1.]])"
      ]
     },
     "execution_count": 22,
     "metadata": {},
     "output_type": "execute_result"
    }
   ],
   "source": [
    "ide=np.identity(45)\n",
    "ide"
   ]
  },
  {
   "cell_type": "code",
   "execution_count": 23,
   "id": "43c99ddd",
   "metadata": {},
   "outputs": [
    {
     "data": {
      "text/plain": [
       "(45, 45)"
      ]
     },
     "execution_count": 23,
     "metadata": {},
     "output_type": "execute_result"
    }
   ],
   "source": [
    "ide.shape"
   ]
  },
  {
   "cell_type": "code",
   "execution_count": 26,
   "id": "933deec2",
   "metadata": {},
   "outputs": [
    {
     "name": "stdout",
     "output_type": "stream",
     "text": [
      "[ 0  1  2  3  4  5  6  7  8  9 10 11 12 13 14 15 16 17 18 19 20 21 22 23\n",
      " 24 25 26 27 28 29 30 31 32 33 34 35 36 37 38 39 40 41 42 43 44 45 46 47\n",
      " 48 49 50 51 52 53 54 55 56 57 58 59 60 61 62 63 64 65 66 67 68 69 70 71\n",
      " 72 73 74 75 76 77 78 79 80 81 82 83 84 85 86 87 88 89 90 91 92 93 94 95\n",
      " 96 97 98]\n",
      "(99,)\n"
     ]
    }
   ],
   "source": [
    "arr=np.arange(99)\n",
    "print(arr)\n",
    "print(arr.shape)"
   ]
  },
  {
   "cell_type": "code",
   "execution_count": 27,
   "id": "95f23ef4",
   "metadata": {},
   "outputs": [
    {
     "data": {
      "text/plain": [
       "array([[ 0,  1,  2,  3,  4,  5,  6,  7,  8,  9, 10, 11, 12, 13, 14, 15,\n",
       "        16, 17, 18, 19, 20, 21, 22, 23, 24, 25, 26, 27, 28, 29, 30, 31,\n",
       "        32],\n",
       "       [33, 34, 35, 36, 37, 38, 39, 40, 41, 42, 43, 44, 45, 46, 47, 48,\n",
       "        49, 50, 51, 52, 53, 54, 55, 56, 57, 58, 59, 60, 61, 62, 63, 64,\n",
       "        65],\n",
       "       [66, 67, 68, 69, 70, 71, 72, 73, 74, 75, 76, 77, 78, 79, 80, 81,\n",
       "        82, 83, 84, 85, 86, 87, 88, 89, 90, 91, 92, 93, 94, 95, 96, 97,\n",
       "        98]])"
      ]
     },
     "execution_count": 27,
     "metadata": {},
     "output_type": "execute_result"
    }
   ],
   "source": [
    "arr=arr.reshape(3,33)\n",
    "# for reshaping we need same sized array inputs \n",
    "# for eg earlier we made 99 sized 1d array so we can make 3*33 sized array only not 3*31\n",
    "arr"
   ]
  },
  {
   "cell_type": "code",
   "execution_count": 28,
   "id": "783f4b17",
   "metadata": {},
   "outputs": [
    {
     "name": "stdout",
     "output_type": "stream",
     "text": [
      "(99,)\n"
     ]
    },
    {
     "data": {
      "text/plain": [
       "array([ 0,  1,  2,  3,  4,  5,  6,  7,  8,  9, 10, 11, 12, 13, 14, 15, 16,\n",
       "       17, 18, 19, 20, 21, 22, 23, 24, 25, 26, 27, 28, 29, 30, 31, 32, 33,\n",
       "       34, 35, 36, 37, 38, 39, 40, 41, 42, 43, 44, 45, 46, 47, 48, 49, 50,\n",
       "       51, 52, 53, 54, 55, 56, 57, 58, 59, 60, 61, 62, 63, 64, 65, 66, 67,\n",
       "       68, 69, 70, 71, 72, 73, 74, 75, 76, 77, 78, 79, 80, 81, 82, 83, 84,\n",
       "       85, 86, 87, 88, 89, 90, 91, 92, 93, 94, 95, 96, 97, 98])"
      ]
     },
     "execution_count": 28,
     "metadata": {},
     "output_type": "execute_result"
    }
   ],
   "source": [
    "# to convert any array into 1d array we have ravel function\n",
    "arr=arr.ravel()\n",
    "print(arr.shape)\n",
    "arr"
   ]
  },
  {
   "cell_type": "code",
   "execution_count": 29,
   "id": "a17628ba",
   "metadata": {},
   "outputs": [],
   "source": [
    "# Numpy axis: count starts from 0 , axis0 towards row and axis1 works in columnns\n",
    "x=[[1,2,3],[4,5,6],[7,8,9]]"
   ]
  },
  {
   "cell_type": "code",
   "execution_count": 30,
   "id": "4b64adda",
   "metadata": {},
   "outputs": [
    {
     "data": {
      "text/plain": [
       "array([[1, 2, 3],\n",
       "       [4, 5, 6],\n",
       "       [7, 8, 9]])"
      ]
     },
     "execution_count": 30,
     "metadata": {},
     "output_type": "execute_result"
    }
   ],
   "source": [
    "ar=np.array(x)\n",
    "ar"
   ]
  },
  {
   "cell_type": "code",
   "execution_count": 31,
   "id": "d21321a3",
   "metadata": {},
   "outputs": [
    {
     "data": {
      "text/plain": [
       "array([12, 15, 18])"
      ]
     },
     "execution_count": 31,
     "metadata": {},
     "output_type": "execute_result"
    }
   ],
   "source": [
    "ar.sum(axis=0)\n",
    "# so we can see sum as 12 of 1st column 15 as sum of 2nd column so it works row-wise"
   ]
  },
  {
   "cell_type": "code",
   "execution_count": 32,
   "id": "566227fa",
   "metadata": {},
   "outputs": [
    {
     "data": {
      "text/plain": [
       "array([ 6, 15, 24])"
      ]
     },
     "execution_count": 32,
     "metadata": {},
     "output_type": "execute_result"
    }
   ],
   "source": [
    "ar.sum(axis=1)"
   ]
  },
  {
   "cell_type": "markdown",
   "id": "3d8965e4",
   "metadata": {},
   "source": [
    "***Numpy attributes***"
   ]
  },
  {
   "cell_type": "code",
   "execution_count": 33,
   "id": "392b0bc8",
   "metadata": {},
   "outputs": [
    {
     "data": {
      "text/plain": [
       "array([[1, 4, 7],\n",
       "       [2, 5, 8],\n",
       "       [3, 6, 9]])"
      ]
     },
     "execution_count": 33,
     "metadata": {},
     "output_type": "execute_result"
    }
   ],
   "source": [
    "ar.T\n",
    "# makes array transpose"
   ]
  },
  {
   "cell_type": "code",
   "execution_count": 34,
   "id": "a15b876c",
   "metadata": {},
   "outputs": [
    {
     "name": "stdout",
     "output_type": "stream",
     "text": [
      "1\n",
      "2\n",
      "3\n",
      "4\n",
      "5\n",
      "6\n",
      "7\n",
      "8\n",
      "9\n"
     ]
    }
   ],
   "source": [
    "for item in ar.flat:\n",
    "#     ar.flat is A 1-D iterator over the array.\n",
    "    print(item)"
   ]
  },
  {
   "cell_type": "code",
   "execution_count": 35,
   "id": "5785f8a4",
   "metadata": {},
   "outputs": [],
   "source": [
    "one=np.array([1,2,3,4])"
   ]
  },
  {
   "cell_type": "code",
   "execution_count": 36,
   "id": "943b23d5",
   "metadata": {},
   "outputs": [
    {
     "name": "stdout",
     "output_type": "stream",
     "text": [
      "3\n",
      "0\n",
      "[0 1 2 3]\n"
     ]
    }
   ],
   "source": [
    "print(one.argmax())\n",
    "# gives index of maximum element\n",
    "print(one.argmin())\n",
    "print(one.argsort()) # gives in ascending order"
   ]
  },
  {
   "cell_type": "code",
   "execution_count": 37,
   "id": "7e1e32a7",
   "metadata": {},
   "outputs": [
    {
     "data": {
      "text/plain": [
       "array([[ 1,  4,  9],\n",
       "       [16, 25, 36],\n",
       "       [36, 49, 64]])"
      ]
     },
     "execution_count": 37,
     "metadata": {},
     "output_type": "execute_result"
    }
   ],
   "source": [
    "ar=np.array([[1,2,3],[4,5,6],[6,7,8]])\n",
    "ar2=np.array([[1,2,3],[4,5,6],[6,7,8]])\n",
    "ar3=ar*ar2\n",
    "ar3"
   ]
  },
  {
   "cell_type": "code",
   "execution_count": 38,
   "id": "5d62b69a",
   "metadata": {},
   "outputs": [
    {
     "data": {
      "text/plain": [
       "array([[ 2,  4,  6],\n",
       "       [ 8, 10, 12],\n",
       "       [12, 14, 16]])"
      ]
     },
     "execution_count": 38,
     "metadata": {},
     "output_type": "execute_result"
    }
   ],
   "source": [
    "ar4=ar+ar2\n",
    "ar4\n",
    "# but if we directly make addition of list then we will get extended list not addition at that indices"
   ]
  },
  {
   "cell_type": "code",
   "execution_count": 39,
   "id": "b016fb3d",
   "metadata": {},
   "outputs": [
    {
     "data": {
      "text/plain": [
       "array([[1., 2., 3.],\n",
       "       [4., 5., 6.],\n",
       "       [6., 7., 8.]])"
      ]
     },
     "execution_count": 39,
     "metadata": {},
     "output_type": "execute_result"
    }
   ],
   "source": [
    "a=np.sqrt(ar3)\n",
    "a\n"
   ]
  },
  {
   "cell_type": "code",
   "execution_count": 40,
   "id": "385c8480",
   "metadata": {},
   "outputs": [],
   "source": [
    "# how nupy takes less space\n",
    "import sys"
   ]
  },
  {
   "cell_type": "code",
   "execution_count": 41,
   "id": "44bc619a",
   "metadata": {},
   "outputs": [],
   "source": [
    "py_ar=[0,4,55,2]\n",
    "np_ar=np.array(py_ar)"
   ]
  },
  {
   "cell_type": "code",
   "execution_count": 42,
   "id": "0a70497a",
   "metadata": {},
   "outputs": [
    {
     "data": {
      "text/plain": [
       "112"
      ]
     },
     "execution_count": 42,
     "metadata": {},
     "output_type": "execute_result"
    }
   ],
   "source": [
    "sys.getsizeof(1) * len(py_ar)"
   ]
  },
  {
   "cell_type": "code",
   "execution_count": 43,
   "id": "d660f004",
   "metadata": {},
   "outputs": [
    {
     "data": {
      "text/plain": [
       "16"
      ]
     },
     "execution_count": 43,
     "metadata": {},
     "output_type": "execute_result"
    }
   ],
   "source": [
    "np_ar.itemsize*np_ar.size"
   ]
  },
  {
   "cell_type": "markdown",
   "id": "4f98d3b9",
   "metadata": {},
   "source": [
    "# Hope this basic tutorial of numpy works out for you!! Rest learning never stops and any use case needs to be googled for more knowledge!!"
   ]
  }
 ],
 "metadata": {
  "kernelspec": {
   "display_name": "Python 3",
   "language": "python",
   "name": "python3"
  },
  "language_info": {
   "codemirror_mode": {
    "name": "ipython",
    "version": 3
   },
   "file_extension": ".py",
   "mimetype": "text/x-python",
   "name": "python",
   "nbconvert_exporter": "python",
   "pygments_lexer": "ipython3",
   "version": "3.8.8"
  }
 },
 "nbformat": 4,
 "nbformat_minor": 5
}
