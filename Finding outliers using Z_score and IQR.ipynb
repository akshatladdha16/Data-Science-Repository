{
 "cells": [
  {
   "cell_type": "code",
   "execution_count": 1,
   "id": "0a8285f0",
   "metadata": {},
   "outputs": [],
   "source": [
    "import numpy as np\n",
    "import pandas as pd\n",
    "import matplotlib.pyplot as plt\n",
    "%matplotlib inline"
   ]
  },
  {
   "cell_type": "code",
   "execution_count": 21,
   "id": "3d852fde",
   "metadata": {},
   "outputs": [],
   "source": [
    "#defining dataset with outliers\n",
    "dataset=[11,10,12,14,12,12,15,14,13,15,102,12,14,17,19,10,13,12,14,12,108,12,11,14,13,15,10,14,13,15,10]"
   ]
  },
  {
   "cell_type": "code",
   "execution_count": 22,
   "id": "9ddeb20e",
   "metadata": {},
   "outputs": [],
   "source": [
    "# finding Outliers using Z_score \n",
    "outliers=[]\n",
    "def detect_outlier(data):\n",
    "    threshold=3 #as 99.7% of data comes under 3 sd regions\n",
    "    mean=np.mean(data)\n",
    "    std=np.std(data)\n",
    "    for i in data:\n",
    "        z_score=(i-mean)/std\n",
    "        if np.abs(z_score) > threshold:\n",
    "            outliers.append(i)\n",
    "    return outliers"
   ]
  },
  {
   "cell_type": "code",
   "execution_count": 23,
   "id": "2be071e6",
   "metadata": {},
   "outputs": [
    {
     "name": "stdout",
     "output_type": "stream",
     "text": [
      "[102, 108]\n"
     ]
    }
   ],
   "source": [
    "print(detect_outlier(dataset))"
   ]
  },
  {
   "cell_type": "markdown",
   "id": "97bc00f7",
   "metadata": {},
   "source": [
    "# finding Outlier using IQR\n",
    "- sort the data\n",
    "- calculate Q1 and Q3\n",
    "- IQR(Q3-Q1)\n",
    "- finding lower(Q1-1.5(IQR)) and upper fence(Q3+1.5(IQR))"
   ]
  },
  {
   "cell_type": "code",
   "execution_count": 24,
   "id": "8ca6bc6c",
   "metadata": {},
   "outputs": [
    {
     "data": {
      "text/plain": [
       "[10,\n",
       " 10,\n",
       " 10,\n",
       " 10,\n",
       " 11,\n",
       " 11,\n",
       " 12,\n",
       " 12,\n",
       " 12,\n",
       " 12,\n",
       " 12,\n",
       " 12,\n",
       " 12,\n",
       " 13,\n",
       " 13,\n",
       " 13,\n",
       " 13,\n",
       " 14,\n",
       " 14,\n",
       " 14,\n",
       " 14,\n",
       " 14,\n",
       " 14,\n",
       " 15,\n",
       " 15,\n",
       " 15,\n",
       " 15,\n",
       " 17,\n",
       " 19,\n",
       " 102,\n",
       " 108]"
      ]
     },
     "execution_count": 24,
     "metadata": {},
     "output_type": "execute_result"
    }
   ],
   "source": [
    "dataset=sorted(dataset)\n",
    "dataset"
   ]
  },
  {
   "cell_type": "code",
   "execution_count": 25,
   "id": "42802442",
   "metadata": {},
   "outputs": [
    {
     "name": "stdout",
     "output_type": "stream",
     "text": [
      "12.0 14.5\n"
     ]
    }
   ],
   "source": [
    "q1,q3=np.percentile(dataset,[25,75])\n",
    "print(q1,q3)"
   ]
  },
  {
   "cell_type": "code",
   "execution_count": 26,
   "id": "db45cd87",
   "metadata": {},
   "outputs": [],
   "source": [
    "# lower and higher fence\n",
    "iqr=q3-q1\n",
    "lower_fence=q1-(1.5*iqr)\n",
    "higher_fence=q3+(1.5*iqr)"
   ]
  },
  {
   "cell_type": "code",
   "execution_count": 27,
   "id": "5ad58e2a",
   "metadata": {},
   "outputs": [
    {
     "name": "stdout",
     "output_type": "stream",
     "text": [
      "8.25 18.25\n"
     ]
    }
   ],
   "source": [
    "print(lower_fence,higher_fence)"
   ]
  },
  {
   "cell_type": "code",
   "execution_count": 30,
   "id": "6d20e7ee",
   "metadata": {},
   "outputs": [],
   "source": [
    "outliers_iqr=[]\n",
    "def detect_outlier_iqr(data):\n",
    "    for i in data:\n",
    "        if i<lower_fence or i>higher_fence:\n",
    "            outliers_iqr.append(i)\n",
    "    return outliers_iqr"
   ]
  },
  {
   "cell_type": "code",
   "execution_count": 31,
   "id": "3ccf949b",
   "metadata": {},
   "outputs": [
    {
     "data": {
      "text/plain": [
       "[19, 102, 108]"
      ]
     },
     "execution_count": 31,
     "metadata": {},
     "output_type": "execute_result"
    }
   ],
   "source": [
    "detect_outlier_iqr(dataset)"
   ]
  },
  {
   "cell_type": "markdown",
   "id": "ac2254b0",
   "metadata": {},
   "source": [
    "so we got our outliers now we can see that on boxplot also as it is based on IQR(inter Quartile range) concept only"
   ]
  },
  {
   "cell_type": "code",
   "execution_count": 33,
   "id": "d7137f54",
   "metadata": {},
   "outputs": [
    {
     "name": "stderr",
     "output_type": "stream",
     "text": [
      "C:\\Users\\AKSHAT RAI LADDHA\\anaconda3\\lib\\site-packages\\seaborn\\_decorators.py:36: FutureWarning: Pass the following variable as a keyword arg: x. From version 0.12, the only valid positional argument will be `data`, and passing other arguments without an explicit keyword will result in an error or misinterpretation.\n",
      "  warnings.warn(\n"
     ]
    },
    {
     "data": {
      "text/plain": [
       "<AxesSubplot:>"
      ]
     },
     "execution_count": 33,
     "metadata": {},
     "output_type": "execute_result"
    },
    {
     "data": {
      "image/png": "[encoded data removed]",
      "text/plain": [
       "<Figure size 432x288 with 1 Axes>"
      ]
     },
     "metadata": {
      "needs_background": "light"
     },
     "output_type": "display_data"
    }
   ],
   "source": [
    "import seaborn as sns\n",
    "sns.boxplot(dataset)"
   ]
  },
  {
   "cell_type": "markdown",
   "id": "e2083a69",
   "metadata": {},
   "source": [
    "we can see outliers outside boxplot and we can remove them "
   ]
  },
  {
   "cell_type": "code",
   "execution_count": null,
   "id": "0a6bc164",
   "metadata": {},
   "outputs": [],
   "source": []
  }
 ],
 "metadata": {
  "kernelspec": {
   "display_name": "Python 3",
   "language": "python",
   "name": "python3"
  },
  "language_info": {
   "codemirror_mode": {
    "name": "ipython",
    "version": 3
   },
   "file_extension": ".py",
   "mimetype": "text/x-python",
   "name": "python",
   "nbconvert_exporter": "python",
   "pygments_lexer": "ipython3",
   "version": "3.8.8"
  }
 },
 "nbformat": 4,
 "nbformat_minor": 5
}
